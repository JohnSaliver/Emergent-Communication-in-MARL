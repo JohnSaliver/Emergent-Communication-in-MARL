{
 "cells": [
  {
   "cell_type": "code",
   "execution_count": 1,
   "metadata": {},
   "outputs": [],
   "source": [
    "import numpy as np\n",
    "import matplotlib.pyplot as plt\n",
    "\n",
    "from ProgressionTree import ProgressionTree\n",
    "def average(p):\n",
    "    \"\"\"\n",
    "        input: p, a function of n\n",
    "        output: \n",
    "            average tree depth\n",
    "            average number of nodes\n",
    "    \"\"\"\n",
    "    number_of_trials = 1000\n",
    "    total_depth = 0\n",
    "    depths_list = []\n",
    "    total_nodes = 0\n",
    "    nodes_list = []\n",
    "    for i in range(number_of_trials):\n",
    "        number_of_nodes = 1\n",
    "        number_of_current_nodes = 0\n",
    "        number_of_past_nodes = 1\n",
    "        n = 0\n",
    "        while number_of_past_nodes>0:\n",
    "            number_of_current_nodes = 0\n",
    "            for j in range(number_of_past_nodes):\n",
    "                if np.random.random()>p(n):\n",
    "                    number_of_current_nodes += 2\n",
    "            number_of_nodes += number_of_current_nodes\n",
    "            number_of_past_nodes = number_of_current_nodes\n",
    "            n += 1\n",
    "            if n>2000:\n",
    "                break\n",
    "        \n",
    "        total_depth += n\n",
    "        total_nodes += number_of_nodes\n",
    "        depths_list.append(n)\n",
    "        nodes_list.append(number_of_nodes)\n",
    "    return total_depth/number_of_trials, total_nodes/number_of_trials, depths_list, nodes_list\n",
    "\n",
    "\n",
    "lambda_p = lambda n: 0.4"
   ]
  },
  {
   "cell_type": "code",
   "execution_count": 2,
   "metadata": {},
   "outputs": [
    {
     "data": {
      "text/plain": [
       "0"
      ]
     },
     "execution_count": 2,
     "metadata": {},
     "output_type": "execute_result"
    }
   ],
   "source": [
    "tree = ProgressionTree()\n",
    "tree.generate_tree([1, 1, 1])"
   ]
  },
  {
   "cell_type": "markdown",
   "metadata": {},
   "source": []
  },
  {
   "cell_type": "code",
   "execution_count": 15,
   "metadata": {},
   "outputs": [
    {
     "data": {
      "text/plain": [
       "4"
      ]
     },
     "execution_count": 15,
     "metadata": {},
     "output_type": "execute_result"
    }
   ],
   "source": [
    "nodes_by_depth = [tree.get_nodes_by_depth(depth) for depth in range(0, tree.get_max_depth())]\n",
    "tree.get_min_depth()"
   ]
  },
  {
   "cell_type": "code",
   "execution_count": 6,
   "metadata": {},
   "outputs": [
    {
     "data": {
      "text/plain": [
       "34"
      ]
     },
     "execution_count": 6,
     "metadata": {},
     "output_type": "execute_result"
    }
   ],
   "source": [
    "s = \"1234\"\n",
    "int(s[2:])"
   ]
  },
  {
   "cell_type": "markdown",
   "metadata": {},
   "source": []
  }
 ],
 "metadata": {
  "interpreter": {
   "hash": "fdd4cef080cf9d8c98fd2c2ab3537af5ed9666002bdead71a8282cc2cf770bde"
  },
  "kernelspec": {
   "display_name": "Python 3.8.5 64-bit ('base': conda)",
   "name": "python3"
  },
  "language_info": {
   "codemirror_mode": {
    "name": "ipython",
    "version": 3
   },
   "file_extension": ".py",
   "mimetype": "text/x-python",
   "name": "python",
   "nbconvert_exporter": "python",
   "pygments_lexer": "ipython3",
   "version": "3.8.5"
  },
  "orig_nbformat": 4
 },
 "nbformat": 4,
 "nbformat_minor": 2
}
