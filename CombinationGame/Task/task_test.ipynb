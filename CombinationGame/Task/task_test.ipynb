{
 "cells": [
  {
   "cell_type": "code",
   "execution_count": 1,
   "metadata": {},
   "outputs": [],
   "source": [
    "import numpy as np\n",
    "from CombTask import CombinationGame as CG\n",
    "from ProgressionTree import ProgressionTree as PT"
   ]
  },
  {
   "cell_type": "code",
   "execution_count": 2,
   "metadata": {},
   "outputs": [],
   "source": [
    "def test_combination_game():\n",
    "    # create an environment\n",
    "\n",
    "    # reset and render the environment for 1 to 10 objects\n",
    "    for i in range(1, 3):\n",
    "        env = CG(1)\n",
    "        # reset the environment\n",
    "        env.reset(i)\n",
    "        # render the environment\n",
    "        print(f\"grid for {i} object\\n\", env.render())"
   ]
  },
  {
   "cell_type": "code",
   "execution_count": 3,
   "metadata": {},
   "outputs": [
    {
     "name": "stdout",
     "output_type": "stream",
     "text": [
      "[[1. 1. 1. 1. 1. 1. 1.]\n",
      " [1. 1. 1. 1. 1. 1. 1.]\n",
      " [1. 1. 1. 1. 1. 1. 1.]\n",
      " [1. 1. 1. 1. 1. 1. 1.]\n",
      " [1. 1. 1. 1. 1. 1. 1.]\n",
      " [1. 1. 1. 1. 1. 1. 1.]\n",
      " [1. 1. 1. 1. 1. 1. 1.]]\n",
      "[[0. 0. 0. 1. 1. 1. 1.]\n",
      " [0. 0. 0. 1. 1. 1. 1.]\n",
      " [0. 0. 0. 1. 1. 1. 1.]\n",
      " [1. 1. 1. 1. 1. 1. 1.]\n",
      " [1. 1. 1. 1. 1. 1. 1.]\n",
      " [1. 1. 1. 1. 1. 1. 1.]\n",
      " [1. 1. 1. 1. 1. 1. 1.]]\n"
     ]
    }
   ],
   "source": [
    "env = CG(1)\n",
    "grid_size = 7\n",
    "\n",
    "def print_free_indices(grid_size, indices_list):\n",
    "    grid = np.zeros((grid_size, grid_size))\n",
    "    for i in indices_list:\n",
    "        grid[i[0], i[1]] = 1\n",
    "    print(grid)\n",
    "indices = np.array(np.unravel_index(range(grid_size*grid_size), (grid_size, grid_size))).T\n",
    "print_free_indices(grid_size, indices)\n",
    "\n",
    "new_indices = env._remove_position_and_neighbors([1, 1], indices)\n",
    "print_free_indices(grid_size, new_indices)"
   ]
  },
  {
   "cell_type": "code",
   "execution_count": 37,
   "metadata": {},
   "outputs": [
    {
     "name": "stdout",
     "output_type": "stream",
     "text": [
      "['m-1', 'm-2', 'm-3', 'm-4', 'i+1', 'm-5', 'i-1', 'i-2', 'i+2', 'l1', 'l2', 'l3', 'i-3', 'i+3', 'l4', 'a1', 'a2']\n",
      "-----------------------------------------\n",
      "|   |   |   |   |   |   |   |   |   |   |\n",
      "-----------------------------------------\n",
      "|   |   |   |   |i-3|   |i+2|   |   |   |\n",
      "-----------------------------------------\n",
      "|   |m-4|   |   |   |   |   |   |   |l4 |\n",
      "-----------------------------------------\n",
      "|   |   |   |   |i-2|   |   |i+1|   |   |\n",
      "-----------------------------------------\n",
      "|   |   |   |   |   |   |   |   |   |   |\n",
      "-----------------------------------------\n",
      "|   |l2 |   |   |m-0|   |l1 |   |i+3|   |\n",
      "-----------------------------------------\n",
      "|   |   |   |   |   |   |   |   |   |   |\n",
      "-----------------------------------------\n",
      "|m-1|   |m-3|   |   |l3 |   |   |i-1|   |\n",
      "-----------------------------------------\n",
      "|   |   |   |   |   |   |   |   |   |   |\n",
      "-----------------------------------------\n",
      "|a1 |   |   |   |   |   |   |a2 |   |m-2|\n",
      "-----------------------------------------\n",
      "\n"
     ]
    }
   ],
   "source": [
    "env = CG(2)\n",
    "env.reset(15)\n",
    "print(env.render())"
   ]
  },
  {
   "cell_type": "code",
   "execution_count": null,
   "metadata": {},
   "outputs": [],
   "source": []
  }
 ],
 "metadata": {
  "interpreter": {
   "hash": "fdd4cef080cf9d8c98fd2c2ab3537af5ed9666002bdead71a8282cc2cf770bde"
  },
  "kernelspec": {
   "display_name": "Python 3.8.5 64-bit ('base': conda)",
   "name": "python3"
  },
  "language_info": {
   "name": "python",
   "version": "3.8.5"
  },
  "orig_nbformat": 4
 },
 "nbformat": 4,
 "nbformat_minor": 2
}
