{
 "cells": [
  {
   "cell_type": "code",
   "execution_count": 1,
   "metadata": {},
   "outputs": [],
   "source": [
    "import numpy as np\n",
    "from CombTask import CombinationGame as CG\n",
    "from ProgressionTree import ProgressionTree as PT"
   ]
  },
  {
   "cell_type": "code",
   "execution_count": 2,
   "metadata": {},
   "outputs": [],
   "source": [
    "def test_combination_game():\n",
    "    # create an environment\n",
    "\n",
    "    # reset and render the environment for 1 to 10 objects\n",
    "    for i in range(1, 3):\n",
    "        env = CG(1)\n",
    "        # reset the environment\n",
    "        env.reset(i)\n",
    "        # render the environment\n",
    "        print(f\"grid for {i} object\\n\", env.render())"
   ]
  },
  {
   "cell_type": "code",
   "execution_count": 3,
   "metadata": {},
   "outputs": [
    {
     "name": "stdout",
     "output_type": "stream",
     "text": [
      "[[1. 1. 1. 1. 1. 1. 1.]\n",
      " [1. 1. 1. 1. 1. 1. 1.]\n",
      " [1. 1. 1. 1. 1. 1. 1.]\n",
      " [1. 1. 1. 1. 1. 1. 1.]\n",
      " [1. 1. 1. 1. 1. 1. 1.]\n",
      " [1. 1. 1. 1. 1. 1. 1.]\n",
      " [1. 1. 1. 1. 1. 1. 1.]]\n",
      "[[0. 0. 0. 1. 1. 1. 1.]\n",
      " [0. 0. 0. 1. 1. 1. 1.]\n",
      " [0. 0. 0. 1. 1. 1. 1.]\n",
      " [1. 1. 1. 1. 1. 1. 1.]\n",
      " [1. 1. 1. 1. 1. 1. 1.]\n",
      " [1. 1. 1. 1. 1. 1. 1.]\n",
      " [1. 1. 1. 1. 1. 1. 1.]]\n"
     ]
    }
   ],
   "source": [
    "env = CG(1)\n",
    "grid_size = 7\n",
    "\n",
    "def print_free_indices(grid_size, indices_list):\n",
    "    grid = np.zeros((grid_size, grid_size))\n",
    "    for i in indices_list:\n",
    "        grid[i[0], i[1]] = 1\n",
    "    print(grid)\n",
    "indices = np.array(np.unravel_index(range(grid_size*grid_size), (grid_size, grid_size))).T\n",
    "print_free_indices(grid_size, indices)\n",
    "\n",
    "new_indices = env._remove_position_and_neighbors([1, 1], indices)\n",
    "print_free_indices(grid_size, new_indices)"
   ]
  },
  {
   "cell_type": "code",
   "execution_count": 4,
   "metadata": {},
   "outputs": [],
   "source": [
    "env = CG(2)"
   ]
  },
  {
   "cell_type": "code",
   "execution_count": null,
   "metadata": {},
   "outputs": [],
   "source": []
  },
  {
   "cell_type": "code",
   "execution_count": 5,
   "metadata": {},
   "outputs": [
    {
     "name": "stdout",
     "output_type": "stream",
     "text": [
      "depth:  0 nodes:  [0]\n",
      "depth nodes strings:  ['  ']\n",
      "value:  [1. 1. 1. 1. 1. 1. 1. 1. 1. 1. 1. 1.] id:  0\n",
      "\tNode:  g  Possible Combinations:  ['ii', 'lm', 'mm', 'ml']  Is_Leaf?  False\n",
      "YOOOOOOO 1  [0 0 0 0 0 0 0 0 0 0 0 0] [0 0 0 0 0 0 0 0 0 0 0 0]\n",
      "YOOOOOOO 2  [0 0 0 0 0 0 0 0 0 0 0 0] [0 1 0 1 0 0 0 0 0 0 0 0]\n",
      "\t\tFound Combination:  ['m-', 'l']\n",
      "\tFound Combination:  ml\n",
      "1\n",
      "1\n",
      "depth:  1 nodes:  [[0. 1. 0. 0. 0. 0. 0. 1. 0. 0. 0. 0.], [0. 0. 0. 1. 0. 0. 0. 1. 0. 0. 0. 0.]]\n",
      "depth nodes strings:  ['m-0', 'l0']\n",
      "value:  [0. 1. 0. 0. 0. 0. 0. 1. 0. 0. 0. 0.] id:  1\n",
      "\tNode:  m  Possible Combinations:  ['mm', 'ml', 'lm']  Is_Leaf?  False\n",
      "YOOOOOOO 1  [0 1 0 1 0 0 0 0 0 0 0 0] [0 1 0 1 0 0 0 0 0 0 0 0]\n",
      "YOOOOOOO 2  [0 1 0 1 0 0 0 0 0 0 0 0] [0 2 0 2 0 0 0 0 0 0 0 0]\n",
      "\t\tFound Combination:  ['m-', 'l']\n",
      "\tFound Combination:  ml\n",
      "2\n",
      "2\n",
      "value:  [0. 0. 0. 1. 0. 0. 0. 1. 0. 0. 0. 0.] id:  10\n",
      "\tNode:  l  Possible Combinations:  ['mm']  Is_Leaf?  False\n",
      "YOOOOOOO 1  [0 2 0 2 0 0 0 0 0 0 0 0] [0 2 0 2 0 0 0 0 0 0 0 0]\n",
      "YOOOOOOO 2  [0 2 0 2 0 0 0 0 0 0 0 0] [0 4 0 2 0 0 0 0 0 0 0 0]\n",
      "\t\tFound Combination:  ['m-', 'm-']\n",
      "\tFound Combination:  mm\n",
      "3\n",
      "4\n",
      "depth:  2 nodes:  [[0. 1. 0. 0. 0. 0. 0. 0. 1. 0. 0. 0.], [0. 0. 0. 1. 0. 0. 0. 0. 1. 0. 0. 0.], [0. 1. 0. 0. 0. 0. 0. 0. 0. 1. 0. 0.], [0. 1. 0. 0. 0. 0. 0. 0. 0. 0. 1. 0.]]\n",
      "depth nodes strings:  ['m-1', 'l1', 'm-2', 'm-3']\n",
      "value:  [0. 1. 0. 0. 0. 0. 0. 0. 1. 0. 0. 0.] id:  2\n",
      "\tNode:  m  Possible Combinations:  ['mm', 'ml', 'lm']  Is_Leaf?  False\n",
      "YOOOOOOO 1  [0 4 0 2 0 0 0 0 0 0 0 0] [0 4 0 2 0 0 0 0 0 0 0 0]\n",
      "YOOOOOOO 2  [0 4 0 2 0 0 0 0 0 0 0 0] [0 5 0 3 0 0 0 0 0 0 0 0]\n",
      "\t\tFound Combination:  ['m-', 'l']\n",
      "\tFound Combination:  ml\n",
      "5\n",
      "3\n",
      "value:  [0. 0. 0. 1. 0. 0. 0. 0. 1. 0. 0. 0.] id:  9\n",
      "value:  [0. 1. 0. 0. 0. 0. 0. 0. 0. 1. 0. 0.] id:  11\n",
      "value:  [0. 1. 0. 0. 0. 0. 0. 0. 0. 0. 1. 0.] id:  12\n",
      "\tNode:  m  Possible Combinations:  ['mm', 'ml', 'lm']  Is_Leaf?  False\n",
      "YOOOOOOO 1  [0 5 0 3 0 0 0 0 0 0 0 0] [0 5 0 3 0 0 0 0 0 0 0 0]\n",
      "YOOOOOOO 2  [0 5 0 3 0 0 0 0 0 0 0 0] [0 7 0 3 0 0 0 0 0 0 0 0]\n",
      "\t\tCombination  ['m-', 'm-']  doesn't work, trying again\n",
      "YOOOOOOO 1  [0 5 0 3 0 0 0 0 0 0 0 0] [0 5 0 3 0 0 0 0 0 0 0 0]\n",
      "YOOOOOOO 2  [0 5 0 3 0 0 0 0 0 0 0 0] [0 6 0 4 0 0 0 0 0 0 0 0]\n",
      "\t\tCombination  ['m-', 'l']  doesn't work, trying again\n",
      "YOOOOOOO 1  [0 5 0 3 0 0 0 0 0 0 0 0] [0 5 0 3 0 0 0 0 0 0 0 0]\n",
      "YOOOOOOO 2  [0 5 0 3 0 0 0 0 0 0 0 0] [0 6 0 4 0 0 0 0 0 0 0 0]\n",
      "\t\tCombination  ['l', 'm-']  doesn't work, trying again\n",
      "\t\tNo more combinations, pruning node children\n",
      "This is supposed to be None:  None\n",
      "depth:  3 nodes:  [[0. 1. 0. 0. 0. 0. 0. 0. 0. 0. 0. 1.], [0. 0. 0. 1. 0. 0. 0. 0. 0. 1. 0. 0.]]\n",
      "depth nodes strings:  ['m-4', 'l2']\n",
      "value:  [0. 1. 0. 0. 0. 0. 0. 0. 0. 0. 0. 1.] id:  3\n",
      "\tNode:  m  Possible Combinations:  ['mm', 'ml', 'lm']  Is_Leaf?  False\n",
      "YOOOOOOO 1  [0 5 0 3 0 0 0 0 0 0 0 0] [0 5 0 3 0 0 0 0 0 0 0 0]\n",
      "YOOOOOOO 2  [0 5 0 3 0 0 0 0 0 0 0 0] [0 6 0 4 0 0 0 0 0 0 0 0]\n",
      "\t\tCombination  ['m-', 'l']  doesn't work, trying again\n",
      "YOOOOOOO 1  [0 5 0 3 0 0 0 0 0 0 0 0] [0 5 0 3 0 0 0 0 0 0 0 0]\n",
      "YOOOOOOO 2  [0 5 0 3 0 0 0 0 0 0 0 0] [0 6 0 4 0 0 0 0 0 0 0 0]\n",
      "\t\tCombination  ['l', 'm-']  doesn't work, trying again\n",
      "YOOOOOOO 1  [0 5 0 3 0 0 0 0 0 0 0 0] [0 5 0 3 0 0 0 0 0 0 0 0]\n",
      "YOOOOOOO 2  [0 5 0 3 0 0 0 0 0 0 0 0] [0 7 0 3 0 0 0 0 0 0 0 0]\n",
      "\t\tCombination  ['m-', 'm-']  doesn't work, trying again\n",
      "\t\tNo more combinations, pruning node children\n",
      "This is supposed to be None:  None\n",
      "value:  [0. 0. 0. 1. 0. 0. 0. 0. 0. 1. 0. 0.] id:  6\n",
      "depth:  4 nodes:  [None, None]\n",
      "depth nodes strings:  ['  ', '  ']\n",
      "nodes_strings_distinct=['m-2', '  ', 'm-3', 'm-4', 'l1']\n"
     ]
    },
    {
     "ename": "KeyError",
     "evalue": "' '",
     "output_type": "error",
     "traceback": [
      "\u001b[1;31m---------------------------------------------------------------------------\u001b[0m",
      "\u001b[1;31mKeyError\u001b[0m                                  Traceback (most recent call last)",
      "\u001b[1;32m<ipython-input-5-934ad33e2828>\u001b[0m in \u001b[0;36m<module>\u001b[1;34m\u001b[0m\n\u001b[1;32m----> 1\u001b[1;33m \u001b[0menv\u001b[0m\u001b[1;33m.\u001b[0m\u001b[0m_random_init\u001b[0m\u001b[1;33m(\u001b[0m\u001b[1;36m1\u001b[0m\u001b[1;33m)\u001b[0m\u001b[1;33m\u001b[0m\u001b[1;33m\u001b[0m\u001b[0m\n\u001b[0m\u001b[0;32m      2\u001b[0m \u001b[0mprint\u001b[0m\u001b[1;33m(\u001b[0m\u001b[0menv\u001b[0m\u001b[1;33m.\u001b[0m\u001b[0mrender\u001b[0m\u001b[1;33m(\u001b[0m\u001b[1;33m)\u001b[0m\u001b[1;33m)\u001b[0m\u001b[1;33m\u001b[0m\u001b[1;33m\u001b[0m\u001b[0m\n",
      "\u001b[1;32mc:\\Users\\pizza\\OneDrive\\Documents\\GitHub\\Emergent-Communication-in-MARL\\CombinationGame\\Task\\CombTask.py\u001b[0m in \u001b[0;36m_random_init\u001b[1;34m(self, difficulty)\u001b[0m\n\u001b[0;32m    563\u001b[0m         \u001b[0mself\u001b[0m\u001b[1;33m.\u001b[0m\u001b[0minitialize_progression_tree\u001b[0m\u001b[1;33m(\u001b[0m\u001b[0mdifficulty\u001b[0m\u001b[1;33m)\u001b[0m\u001b[1;33m\u001b[0m\u001b[1;33m\u001b[0m\u001b[0m\n\u001b[0;32m    564\u001b[0m         \u001b[1;31m# get entity_list\u001b[0m\u001b[1;33m\u001b[0m\u001b[1;33m\u001b[0m\u001b[1;33m\u001b[0m\u001b[0m\n\u001b[1;32m--> 565\u001b[1;33m         \u001b[0mself\u001b[0m\u001b[1;33m.\u001b[0m\u001b[0mentity_list\u001b[0m \u001b[1;33m=\u001b[0m \u001b[0mself\u001b[0m\u001b[1;33m.\u001b[0m\u001b[0m_generate_entity_list_from_tree\u001b[0m\u001b[1;33m(\u001b[0m\u001b[1;33m)\u001b[0m\u001b[1;33m\u001b[0m\u001b[1;33m\u001b[0m\u001b[0m\n\u001b[0m\u001b[0;32m    566\u001b[0m         \u001b[1;31m# place entity_list in the grid\u001b[0m\u001b[1;33m\u001b[0m\u001b[1;33m\u001b[0m\u001b[1;33m\u001b[0m\u001b[0m\n\u001b[0;32m    567\u001b[0m         \u001b[0mself\u001b[0m\u001b[1;33m.\u001b[0m\u001b[0mplace_entity_list_in_grid\u001b[0m\u001b[1;33m(\u001b[0m\u001b[1;33m)\u001b[0m\u001b[1;33m\u001b[0m\u001b[1;33m\u001b[0m\u001b[0m\n",
      "\u001b[1;32mc:\\Users\\pizza\\OneDrive\\Documents\\GitHub\\Emergent-Communication-in-MARL\\CombinationGame\\Task\\CombTask.py\u001b[0m in \u001b[0;36m_generate_entity_list_from_tree\u001b[1;34m(self)\u001b[0m\n\u001b[0;32m    317\u001b[0m         \u001b[0mprint\u001b[0m\u001b[1;33m(\u001b[0m\u001b[1;34mf\"{nodes_strings_distinct=}\"\u001b[0m\u001b[1;33m)\u001b[0m\u001b[1;33m\u001b[0m\u001b[1;33m\u001b[0m\u001b[0m\n\u001b[0;32m    318\u001b[0m         \u001b[1;32mfor\u001b[0m \u001b[0mstring_obj\u001b[0m \u001b[1;32min\u001b[0m \u001b[0mnodes_strings_distinct\u001b[0m\u001b[1;33m:\u001b[0m\u001b[1;33m\u001b[0m\u001b[1;33m\u001b[0m\u001b[0m\n\u001b[1;32m--> 319\u001b[1;33m             \u001b[0mobject_type\u001b[0m\u001b[1;33m,\u001b[0m \u001b[0mobject_id\u001b[0m \u001b[1;33m=\u001b[0m \u001b[0mself\u001b[0m\u001b[1;33m.\u001b[0m\u001b[0m_get_object_type_and_id_from_string\u001b[0m\u001b[1;33m(\u001b[0m\u001b[0mstring_obj\u001b[0m\u001b[1;33m)\u001b[0m\u001b[1;33m\u001b[0m\u001b[1;33m\u001b[0m\u001b[0m\n\u001b[0m\u001b[0;32m    320\u001b[0m             \u001b[1;32mif\u001b[0m \u001b[0mlen\u001b[0m\u001b[1;33m(\u001b[0m\u001b[0mindices\u001b[0m\u001b[1;33m)\u001b[0m \u001b[1;33m==\u001b[0m \u001b[1;36m0\u001b[0m\u001b[1;33m:\u001b[0m\u001b[1;33m\u001b[0m\u001b[1;33m\u001b[0m\u001b[0m\n\u001b[0;32m    321\u001b[0m                 \u001b[0mprint\u001b[0m\u001b[1;33m(\u001b[0m\u001b[1;34mf\"no more room to place objects, only {i} objects have been placed\"\u001b[0m\u001b[1;33m)\u001b[0m\u001b[1;33m\u001b[0m\u001b[1;33m\u001b[0m\u001b[0m\n",
      "\u001b[1;32mc:\\Users\\pizza\\OneDrive\\Documents\\GitHub\\Emergent-Communication-in-MARL\\CombinationGame\\Task\\CombTask.py\u001b[0m in \u001b[0;36m_get_object_type_and_id_from_string\u001b[1;34m(self, object_string)\u001b[0m\n\u001b[0;32m    192\u001b[0m                 \u001b[0mobject_id\u001b[0m \u001b[1;33m:\u001b[0m \u001b[0mthe\u001b[0m \u001b[0mobject\u001b[0m \u001b[0mid\u001b[0m\u001b[1;33m\u001b[0m\u001b[1;33m\u001b[0m\u001b[0m\n\u001b[0;32m    193\u001b[0m         \"\"\"\n\u001b[1;32m--> 194\u001b[1;33m         \u001b[0mobject_type\u001b[0m \u001b[1;33m=\u001b[0m \u001b[0mself\u001b[0m\u001b[1;33m.\u001b[0m\u001b[0mentity_string_doc_reverse\u001b[0m\u001b[1;33m[\u001b[0m\u001b[0mobject_string\u001b[0m\u001b[1;33m[\u001b[0m\u001b[1;36m0\u001b[0m\u001b[1;33m:\u001b[0m\u001b[1;36m2\u001b[0m\u001b[1;33m]\u001b[0m\u001b[1;33m]\u001b[0m \u001b[1;32mif\u001b[0m \u001b[0mlen\u001b[0m\u001b[1;33m(\u001b[0m\u001b[0mobject_string\u001b[0m\u001b[1;33m)\u001b[0m \u001b[1;33m>\u001b[0m \u001b[1;36m2\u001b[0m \u001b[1;32melse\u001b[0m \u001b[0mself\u001b[0m\u001b[1;33m.\u001b[0m\u001b[0mentity_string_doc_reverse\u001b[0m\u001b[1;33m[\u001b[0m\u001b[0mobject_string\u001b[0m\u001b[1;33m[\u001b[0m\u001b[1;36m0\u001b[0m\u001b[1;33m]\u001b[0m\u001b[1;33m]\u001b[0m\u001b[1;33m\u001b[0m\u001b[1;33m\u001b[0m\u001b[0m\n\u001b[0m\u001b[0;32m    195\u001b[0m         \u001b[0mobject_id\u001b[0m \u001b[1;33m=\u001b[0m \u001b[0mint\u001b[0m\u001b[1;33m(\u001b[0m\u001b[0mobject_string\u001b[0m\u001b[1;33m[\u001b[0m\u001b[1;36m2\u001b[0m\u001b[1;33m:\u001b[0m\u001b[1;33m]\u001b[0m\u001b[1;33m)\u001b[0m \u001b[1;32mif\u001b[0m \u001b[0mlen\u001b[0m\u001b[1;33m(\u001b[0m\u001b[0mobject_string\u001b[0m\u001b[1;33m)\u001b[0m \u001b[1;33m>\u001b[0m \u001b[1;36m2\u001b[0m \u001b[1;32melse\u001b[0m \u001b[0mint\u001b[0m\u001b[1;33m(\u001b[0m\u001b[0mobject_string\u001b[0m\u001b[1;33m[\u001b[0m\u001b[1;36m1\u001b[0m\u001b[1;33m]\u001b[0m\u001b[1;33m)\u001b[0m\u001b[1;33m\u001b[0m\u001b[1;33m\u001b[0m\u001b[0m\n\u001b[0;32m    196\u001b[0m         \u001b[1;32mreturn\u001b[0m \u001b[0mobject_type\u001b[0m\u001b[1;33m,\u001b[0m \u001b[0mobject_id\u001b[0m\u001b[1;33m\u001b[0m\u001b[1;33m\u001b[0m\u001b[0m\n",
      "\u001b[1;31mKeyError\u001b[0m: ' '"
     ]
    }
   ],
   "source": [
    "env._random_init(1)\n",
    "print(env.render())"
   ]
  },
  {
   "cell_type": "code",
   "execution_count": null,
   "metadata": {},
   "outputs": [
    {
     "data": {
      "text/plain": [
       "(1, 3)"
      ]
     },
     "execution_count": 18,
     "metadata": {},
     "output_type": "execute_result"
    }
   ],
   "source": [
    "object_string = \"m-3\"\n",
    "entity_string_doc_reverse = {\n",
    "            \"m+\": 0,\n",
    "            \"m-\": 1,\n",
    "            \"a\": 2,\n",
    "            \"l\": 3,\n",
    "            \"i+\": 4,\n",
    "            \"i-\": 5,\n",
    "            \"X\": 6,\n",
    "        }\n",
    "object_id = int(object_string[2:]) if len(object_string) > 2 else int(object_string[1])\n",
    "object_type = entity_string_doc_reverse[object_string[0:2]] if len(object_string) > 2 else entity_string_doc_reverse[object_string[0]]\n",
    "object_type, object_id"
   ]
  }
 ],
 "metadata": {
  "interpreter": {
   "hash": "fdd4cef080cf9d8c98fd2c2ab3537af5ed9666002bdead71a8282cc2cf770bde"
  },
  "kernelspec": {
   "display_name": "Python 3.8.5 64-bit ('base': conda)",
   "name": "python3"
  },
  "language_info": {
   "codemirror_mode": {
    "name": "ipython",
    "version": 3
   },
   "file_extension": ".py",
   "mimetype": "text/x-python",
   "name": "python",
   "nbconvert_exporter": "python",
   "pygments_lexer": "ipython3",
   "version": "3.8.5"
  },
  "orig_nbformat": 4
 },
 "nbformat": 4,
 "nbformat_minor": 2
}
