{
 "cells": [
  {
   "cell_type": "code",
   "execution_count": 1,
   "source": [
    "import numpy as np\r\n",
    "import matplotlib.pyplot as plt\r\n",
    "import torch\r\n",
    "import torch.nn as nn\r\n",
    "\r\n",
    "from oneDtoyTask.oneDtoyTask import ToyTask, OneDfield, TwoWayComChannel\r\n",
    "from agents.agent_Aria import Aria\r\n",
    "\r\n",
    "from utils import getReturns, Controller"
   ],
   "outputs": [],
   "metadata": {}
  },
  {
   "cell_type": "code",
   "execution_count": null,
   "source": [
    "epochs = 100\r\n",
    "opt_params = {\"lr\":0.0005, \"batch_size\":8}\r\n",
    "agent0 = Aria(opt_params=opt_params)\r\n",
    "agent1 = Aria(opt_params=opt_params)\r\n",
    "np.random.seed(1)\r\n",
    "field = OneDfield(speed=10)\r\n",
    "Task = ToyTask(field=field, observationMappingFct=lambda x: (x>0.5).astype(int), comChannel=TwoWayComChannel())\r\n",
    "\r\n"
   ],
   "outputs": [],
   "metadata": {}
  },
  {
   "cell_type": "code",
   "execution_count": null,
   "source": [
    "obs, downlink_msgs = Task.reset()\r\n",
    "losses = []\r\n",
    "for epoch in range(epochs):\r\n",
    "    a0, m0u =  agent0.select_action(obs[0], downlink_msgs[0])\r\n",
    "    a1, m1u = agent1.select_action(obs[1], downlink_msgs[1])\r\n",
    "    \r\n",
    "    (obs_, downlink_msgs), r, done = Task.step([a0, a1], [m0u, m1u])\r\n",
    "    loss0 = agent0.train_on_batch(obs[0], r[0])\r\n",
    "    loss1 = agent1.train_on_batch(obs[1], r[1])\r\n",
    "    obs = obs_\r\n",
    "    losses.append([loss0, loss1])"
   ],
   "outputs": [],
   "metadata": {}
  }
 ],
 "metadata": {
  "orig_nbformat": 4,
  "language_info": {
   "name": "python",
   "version": "3.8.5",
   "mimetype": "text/x-python",
   "codemirror_mode": {
    "name": "ipython",
    "version": 3
   },
   "pygments_lexer": "ipython3",
   "nbconvert_exporter": "python",
   "file_extension": ".py"
  },
  "kernelspec": {
   "name": "python3",
   "display_name": "Python 3.8.5 64-bit ('base': conda)"
  },
  "interpreter": {
   "hash": "fdd4cef080cf9d8c98fd2c2ab3537af5ed9666002bdead71a8282cc2cf770bde"
  }
 },
 "nbformat": 4,
 "nbformat_minor": 2
}