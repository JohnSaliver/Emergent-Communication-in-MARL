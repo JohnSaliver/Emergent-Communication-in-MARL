{
 "cells": [
  {
   "cell_type": "code",
   "execution_count": 1,
   "source": [
    "import numpy as np\r\n",
    "import matplotlib.pyplot as plt\r\n",
    "import torch\r\n",
    "import torch.nn as nn\r\n",
    "\r\n",
    "from oneDtoyTask.oneDtoyTask import ToyTask, OneDfield, TwoWayComChannel\r\n",
    "from agents.agent_Aria import Aria\r\n",
    "\r\n",
    "from utils import getReturns, Controller"
   ],
   "outputs": [],
   "metadata": {}
  },
  {
   "cell_type": "code",
   "execution_count": null,
   "source": [
    "batch_size = 1\r\n",
    "agent0 = Aria(batch_size=batch_size)\r\n",
    "agent1 = Aria(batch_size=batch_size)\r\n",
    "\r\n",
    "learningRate = 0.0005 \r\n",
    "epochs = 100\r\n",
    "optimizer1 = torch.optim.Adam(agent0.parameters(), lr=learningRate)\r\n",
    "optimizer2 = torch.optim.Adam(agent1.parameters(), lr=learningRate)\r\n",
    "np.random.seed(1)\r\n",
    "field = OneDfield(speed=10)\r\n",
    "Task = ToyTask(field=field, observationMappingFct=lambda x: (x>0.5).astype(int), comChannel=TwoWayComChannel())\r\n",
    "\r\n"
   ],
   "outputs": [],
   "metadata": {}
  },
  {
   "cell_type": "code",
   "execution_count": null,
   "source": [
    "obs, downlink_msgs = Task.reset()\r\n",
    "C = Controller()\r\n",
    "for epoch in range(epochs):\r\n",
    "    a0p, uplink_m0 = agent0(obs[0], downlink_msgs[0])\r\n",
    "    a1p, uplink_m1 = agent1(obs[1], downlink_msgs[1])\r\n",
    "    logp_a0 = torch.log(a0p)\r\n",
    "    logp_a1 = torch.log(a1p)\r\n",
    "    logp_uplink0 = torch.log(uplink_m0)\r\n",
    "    logp_uplink1 = torch.log(uplink_m1)\r\n",
    "    actions.append((a0p, a1p))\r\n",
    "    states.append((obs, downlink_msgs))\r\n",
    "    (obs, downlink_msgs), r, done = Task.step([a0, a1], [uplink_m0, uplink_m1])\r\n",
    "    C.insert_traj((obs, downlink_msgs), r, [a0p.to_numpy(), a1p.to_numpy()], )\r\n",
    "    rewards.append(r)\r\n",
    "\r\n",
    "    "
   ],
   "outputs": [],
   "metadata": {}
  }
 ],
 "metadata": {
  "orig_nbformat": 4,
  "language_info": {
   "name": "python",
   "version": "3.8.5",
   "mimetype": "text/x-python",
   "codemirror_mode": {
    "name": "ipython",
    "version": 3
   },
   "pygments_lexer": "ipython3",
   "nbconvert_exporter": "python",
   "file_extension": ".py"
  },
  "kernelspec": {
   "name": "python3",
   "display_name": "Python 3.8.5 64-bit ('base': conda)"
  },
  "interpreter": {
   "hash": "fdd4cef080cf9d8c98fd2c2ab3537af5ed9666002bdead71a8282cc2cf770bde"
  }
 },
 "nbformat": 4,
 "nbformat_minor": 2
}