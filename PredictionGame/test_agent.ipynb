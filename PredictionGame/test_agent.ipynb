{
 "cells": [
  {
   "cell_type": "code",
   "execution_count": 1,
   "source": [
    "import numpy as np\r\n",
    "import matplotlib.pyplot as plt\r\n",
    "import torch\r\n",
    "import torch.nn as nn\r\n",
    "import torch.nn.functional as F\r\n",
    "from oneDtoyTask.oneDtoyTask import ToyTask, OneDfield, TwoWayComChannel\r\n",
    "from agents.agent_AriaRE import AriaRE\r\n",
    "from agents.agent_AriaAC import AriaAC\r\n",
    "from IPython import display\r\n"
   ],
   "outputs": [],
   "metadata": {}
  },
  {
   "cell_type": "code",
   "execution_count": 2,
   "source": [
    "epochs = 1000\r\n",
    "opt_params = {\"lr\":0.005, \"batch_size\":20, \"gamma\":0.999}\r\n",
    "agent0 = AriaAC(opt_params=opt_params, with_memory=True, aidi=0).float()\r\n",
    "agent1 = AriaAC(opt_params=opt_params, with_memory=True, aidi=1).float()\r\n",
    "np.random.seed(1)\r\n",
    "field = OneDfield(speed=2)\r\n",
    "Task = ToyTask(field=field, observationMappingFct=lambda x: (x>0.5).astype(int), comChannel=TwoWayComChannel())\r\n",
    "\r\n"
   ],
   "outputs": [],
   "metadata": {}
  },
  {
   "cell_type": "code",
   "execution_count": 3,
   "source": [
    "def plot_preds(obsers, preds):\r\n",
    "    display.clear_output(wait=True)\r\n",
    "    plt.clf()\r\n",
    "    obsers = np.array(obsers)\r\n",
    "    preds = np.array(preds)\r\n",
    "    \r\n",
    "    fig, axs = plt.subplots(1, 2, figsize=(16, 6))\r\n",
    "    axs[0].plot(obsers[:, 0])\r\n",
    "    axs[0].plot(preds[:, 0])\r\n",
    "    axs[0].legend(['observations', 'predictions'])\r\n",
    "    axs[0].set_title('Agent 0')\r\n",
    "    axs[0].set_xlabel('Epoch')\r\n",
    "\r\n",
    "    axs[1].plot(obsers[:, 1])\r\n",
    "    axs[1].plot(preds[:, 1])\r\n",
    "    axs[1].legend(['observations', 'predictions'])\r\n",
    "    axs[1].set_title('Agent 1')\r\n",
    "    axs[1].set_xlabel('Epoch')\r\n",
    "    plt.grid(True)\r\n",
    "    \r\n",
    "    display.display(plt.gcf())\r\n",
    "    return fig"
   ],
   "outputs": [],
   "metadata": {}
  },
  {
   "cell_type": "code",
   "execution_count": 4,
   "source": [
    "obs, downlink_msgs = Task.reset()\r\n",
    "losses = []\r\n",
    "rewards1 = []\r\n",
    "rewards2 = []\r\n",
    "torch.autograd.set_detect_anomaly(True)\r\n",
    "epoch = 0\r\n",
    "observations = []\r\n",
    "predictions = []\r\n",
    "epsilon = 0.8\r\n",
    "while epoch<epochs:\r\n",
    "    \r\n",
    "    a0, m0u =  agent0.select_action(obs[0], downlink_msgs[0], eps=epsilon)\r\n",
    "    a1, m1u = agent1.select_action(obs[1], downlink_msgs[1], eps=epsilon)\r\n",
    "    m0u_ = np.zeros(4)\r\n",
    "    m1u_ = np.zeros(4)\r\n",
    "    m0u_[m0u.item()] = 1\r\n",
    "    m1u_[m1u.item()] = 1\r\n",
    "    \r\n",
    "    predictions.append((a0.item(), a1.item()))\r\n",
    "    (obs_, downlink_msgs_), r, done = Task.step([a0.item(), a1.item()], [m0u_, m1u_])\r\n",
    "    observations.append([obs_[0][1], obs_[1][0]])\r\n",
    "    loss0, rew1, mean_policy0 = agent0.train_on_batch([obs[0], downlink_msgs[0]], r[0])\r\n",
    "    loss1, rew2, mean_policy1 = agent1.train_on_batch([obs[1], downlink_msgs[1]], r[1])\r\n",
    "    obs = obs_\r\n",
    "    downlink_msgs = downlink_msgs_\r\n",
    "    if loss0 is not None:\r\n",
    "        losses.append([loss0, loss1])\r\n",
    "        rewards1.append(rew1)\r\n",
    "        rewards1.append(rew2)\r\n",
    "        fig  = plot_preds(observations, predictions)\r\n",
    "        print(f\"epoch {epoch}/{epochs} \\n[policy loss, value loss, entropy loss], reward:  \\nagent 0 {loss0}, {np.mean(rew1)} mean policy {mean_policy0} \\nagent 1 {loss1}, {np.mean(rew2)} mean policy {mean_policy1}\")\r\n",
    "        if epoch+1%50 and epsilon>0:\r\n",
    "            epsilon-=0.1\r\n",
    "        elif epsilon<0:\r\n",
    "            epsilon=0\r\n",
    "        epoch+=1\r\n",
    "        observations = []\r\n",
    "        predictions = []\r\n",
    "        plt.close()"
   ],
   "outputs": [
    {
     "output_type": "stream",
     "name": "stdout",
     "text": [
      "tensor([[0.5009]], grad_fn=<SigmoidBackward>) tensor([[0.3131, 0.1886, 0.2621, 0.2363]], grad_fn=<SoftmaxBackward>)\n",
      "tensor([[0.5057]], grad_fn=<SigmoidBackward>) tensor([[0.3163, 0.1884, 0.2604, 0.2348]], grad_fn=<SoftmaxBackward>)\n",
      "tensor([[0.5093]], grad_fn=<SigmoidBackward>) tensor([[0.3173, 0.1880, 0.2600, 0.2347]], grad_fn=<SoftmaxBackward>)\n",
      "tensor([[0.5110]], grad_fn=<SigmoidBackward>) tensor([[0.3168, 0.1882, 0.2595, 0.2354]], grad_fn=<SoftmaxBackward>)\n",
      "tensor([[0.5108]], grad_fn=<SigmoidBackward>) tensor([[0.3161, 0.1890, 0.2593, 0.2356]], grad_fn=<SoftmaxBackward>)\n",
      "tensor([[0.5120]], grad_fn=<SigmoidBackward>) tensor([[0.3162, 0.1887, 0.2591, 0.2361]], grad_fn=<SoftmaxBackward>)\n",
      "tensor([[0.5125]], grad_fn=<SigmoidBackward>) tensor([[0.3160, 0.1887, 0.2590, 0.2363]], grad_fn=<SoftmaxBackward>)\n",
      "tensor([[0.5121]], grad_fn=<SigmoidBackward>) tensor([[0.3160, 0.1890, 0.2588, 0.2362]], grad_fn=<SoftmaxBackward>)\n",
      "tensor([[0.5114]], grad_fn=<SigmoidBackward>) tensor([[0.3157, 0.1894, 0.2589, 0.2360]], grad_fn=<SoftmaxBackward>)\n",
      "tensor([[0.5119]], grad_fn=<SigmoidBackward>) tensor([[0.3156, 0.1896, 0.2585, 0.2364]], grad_fn=<SoftmaxBackward>)\n",
      "tensor([[0.5116]], grad_fn=<SigmoidBackward>) tensor([[0.3156, 0.1896, 0.2587, 0.2361]], grad_fn=<SoftmaxBackward>)\n",
      "tensor([[0.5113]], grad_fn=<SigmoidBackward>) tensor([[0.3157, 0.1896, 0.2587, 0.2359]], grad_fn=<SoftmaxBackward>)\n",
      "tensor([[0.5120]], grad_fn=<SigmoidBackward>) tensor([[0.3162, 0.1892, 0.2585, 0.2361]], grad_fn=<SoftmaxBackward>)\n",
      "tensor([[0.5123]], grad_fn=<SigmoidBackward>) tensor([[0.3164, 0.1891, 0.2584, 0.2362]], grad_fn=<SoftmaxBackward>)\n",
      "tensor([[0.5124]], grad_fn=<SigmoidBackward>) tensor([[0.3165, 0.1890, 0.2584, 0.2362]], grad_fn=<SoftmaxBackward>)\n",
      "tensor([[0.5118]], grad_fn=<SigmoidBackward>) tensor([[0.3161, 0.1893, 0.2586, 0.2360]], grad_fn=<SoftmaxBackward>)\n",
      "tensor([[0.5118]], grad_fn=<SigmoidBackward>) tensor([[0.3161, 0.1894, 0.2585, 0.2360]], grad_fn=<SoftmaxBackward>)\n",
      "tensor([[0.5111]], grad_fn=<SigmoidBackward>) tensor([[0.3161, 0.1894, 0.2586, 0.2358]], grad_fn=<SoftmaxBackward>)\n",
      "tensor([[0.5124]], grad_fn=<SigmoidBackward>) tensor([[0.3163, 0.1893, 0.2580, 0.2364]], grad_fn=<SoftmaxBackward>)\n",
      "tensor([[0.5130]], grad_fn=<SigmoidBackward>) tensor([[0.3163, 0.1889, 0.2584, 0.2365]], grad_fn=<SoftmaxBackward>)\n"
     ]
    },
    {
     "output_type": "error",
     "ename": "TypeError",
     "evalue": "unsupported operand type(s) for +: 'int' and 'str'",
     "traceback": [
      "\u001b[1;31m---------------------------------------------------------------------------\u001b[0m",
      "\u001b[1;31mTypeError\u001b[0m                                 Traceback (most recent call last)",
      "\u001b[1;32m<ipython-input-4-39b1fc0a7760>\u001b[0m in \u001b[0;36m<module>\u001b[1;34m\u001b[0m\n\u001b[0;32m     25\u001b[0m     \u001b[0mdownlink_msgs\u001b[0m \u001b[1;33m=\u001b[0m \u001b[0mdownlink_msgs_\u001b[0m\u001b[1;33m\u001b[0m\u001b[1;33m\u001b[0m\u001b[0m\n\u001b[0;32m     26\u001b[0m     \u001b[1;32mif\u001b[0m \u001b[0mloss0\u001b[0m \u001b[1;32mis\u001b[0m \u001b[1;32mnot\u001b[0m \u001b[1;32mNone\u001b[0m\u001b[1;33m:\u001b[0m\u001b[1;33m\u001b[0m\u001b[1;33m\u001b[0m\u001b[0m\n\u001b[1;32m---> 27\u001b[1;33m         \u001b[1;36m1\u001b[0m\u001b[1;33m+\u001b[0m\u001b[1;34m\"s\"\u001b[0m\u001b[1;33m\u001b[0m\u001b[1;33m\u001b[0m\u001b[0m\n\u001b[0m\u001b[0;32m     28\u001b[0m         \u001b[0mlosses\u001b[0m\u001b[1;33m.\u001b[0m\u001b[0mappend\u001b[0m\u001b[1;33m(\u001b[0m\u001b[1;33m[\u001b[0m\u001b[0mloss0\u001b[0m\u001b[1;33m,\u001b[0m \u001b[0mloss1\u001b[0m\u001b[1;33m]\u001b[0m\u001b[1;33m)\u001b[0m\u001b[1;33m\u001b[0m\u001b[1;33m\u001b[0m\u001b[0m\n\u001b[0;32m     29\u001b[0m         \u001b[0mrewards1\u001b[0m\u001b[1;33m.\u001b[0m\u001b[0mappend\u001b[0m\u001b[1;33m(\u001b[0m\u001b[0mrew1\u001b[0m\u001b[1;33m)\u001b[0m\u001b[1;33m\u001b[0m\u001b[1;33m\u001b[0m\u001b[0m\n",
      "\u001b[1;31mTypeError\u001b[0m: unsupported operand type(s) for +: 'int' and 'str'"
     ]
    }
   ],
   "metadata": {}
  }
 ],
 "metadata": {
  "orig_nbformat": 4,
  "language_info": {
   "name": "python",
   "version": "3.8.5",
   "mimetype": "text/x-python",
   "codemirror_mode": {
    "name": "ipython",
    "version": 3
   },
   "pygments_lexer": "ipython3",
   "nbconvert_exporter": "python",
   "file_extension": ".py"
  },
  "kernelspec": {
   "name": "python3",
   "display_name": "Python 3.8.5 64-bit ('base': conda)"
  },
  "interpreter": {
   "hash": "fdd4cef080cf9d8c98fd2c2ab3537af5ed9666002bdead71a8282cc2cf770bde"
  }
 },
 "nbformat": 4,
 "nbformat_minor": 2
}