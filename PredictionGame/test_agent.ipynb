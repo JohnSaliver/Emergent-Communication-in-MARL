{
 "cells": [
  {
   "cell_type": "code",
   "execution_count": 1,
   "source": [
    "import numpy as np\r\n",
    "import matplotlib.pyplot as plt\r\n",
    "import torch\r\n",
    "import torch.nn as nn\r\n",
    "import torch.nn.functional as F\r\n",
    "from oneDtoyTask.oneDtoyTask import ToyTask, OneDfield, TwoWayComChannel\r\n",
    "from agents.agent_AriaRE import AriaRE\r\n",
    "from agents.agent_AriaAC import AriaAC\r\n",
    "from IPython import display\r\n"
   ],
   "outputs": [],
   "metadata": {}
  },
  {
   "cell_type": "code",
   "execution_count": 2,
   "source": [
    "epochs = 1000\r\n",
    "opt_params = {\"lr\":0.005, \"batch_size\":20, \"gamma\":0.999}\r\n",
    "agent0 = AriaAC(opt_params=opt_params).float()\r\n",
    "agent1 = AriaAC(opt_params=opt_params).float()\r\n",
    "np.random.seed(1)\r\n",
    "field = OneDfield(speed=2)\r\n",
    "Task = ToyTask(field=field, observationMappingFct=lambda x: (x>0.5).astype(int), comChannel=TwoWayComChannel())\r\n",
    "\r\n"
   ],
   "outputs": [],
   "metadata": {}
  },
  {
   "cell_type": "code",
   "execution_count": 3,
   "source": [
    "def plot_preds(obsers, preds):\r\n",
    "    display.clear_output(wait=True)\r\n",
    "    plt.clf()\r\n",
    "    obsers = np.array(obsers)\r\n",
    "    preds = np.array(preds)\r\n",
    "    \r\n",
    "    fig, axs = plt.subplots(1, 2, figsize=(16, 6))\r\n",
    "    axs[0].plot(obsers[:, 0])\r\n",
    "    axs[0].plot(preds[:, 0])\r\n",
    "    axs[0].legend(['observations', 'predictions'])\r\n",
    "    axs[0].set_title('Agent 0')\r\n",
    "    axs[0].set_xlabel('Epoch')\r\n",
    "\r\n",
    "    axs[1].plot(obsers[:, 1])\r\n",
    "    axs[1].plot(preds[:, 1])\r\n",
    "    axs[1].legend(['observations', 'predictions'])\r\n",
    "    axs[1].set_title('Agent 1')\r\n",
    "    axs[1].set_xlabel('Epoch')\r\n",
    "    plt.grid(True)\r\n",
    "    \r\n",
    "    display.display(plt.gcf())\r\n",
    "    return fig"
   ],
   "outputs": [],
   "metadata": {}
  },
  {
   "cell_type": "code",
   "execution_count": 4,
   "source": [
    "obs, downlink_msgs = Task.reset()\r\n",
    "losses = []\r\n",
    "rewards1 = []\r\n",
    "rewards2 = []\r\n",
    "torch.autograd.set_detect_anomaly(True)\r\n",
    "epoch = 0\r\n",
    "observations = []\r\n",
    "predictions = []\r\n",
    "while epoch<epochs:\r\n",
    "    \r\n",
    "    a0, m0u, entropy0 =  agent0.select_action(obs[0], downlink_msgs[0])\r\n",
    "    a1, m1u, entropy1 = agent1.select_action(obs[1], downlink_msgs[1])\r\n",
    "    m0u_ = np.zeros(4)\r\n",
    "    m1u_ = np.zeros(4)\r\n",
    "    m0u_[m0u.item()] = 1\r\n",
    "    m1u_[m1u.item()] = 1\r\n",
    "    observations.append([obs[0][1], obs[1][0]])\r\n",
    "    predictions.append((a0.item(), a1.item()))\r\n",
    "    (obs_, downlink_msgs_), r, done = Task.step([a0.item(), a1.item()], [m0u_, m1u_])\r\n",
    "    loss0, rew1 = agent0.train_on_batch([obs[0], downlink_msgs[0]], r[0], entropy0)\r\n",
    "    loss1, rew2 = agent1.train_on_batch([obs[1], downlink_msgs[1]], r[1], entropy1)\r\n",
    "    obs = obs_\r\n",
    "    downlink_msgs = downlink_msgs_\r\n",
    "    if loss0 is not None:\r\n",
    "\r\n",
    "        losses.append([loss0, loss1])\r\n",
    "        rewards1.append(rew1)\r\n",
    "        rewards1.append(rew2)\r\n",
    "        fig  = plot_preds(observations, predictions)\r\n",
    "        print(f\"epoch {epoch}/{epochs} loss, reward:  agent 0 {loss0}, {np.mean(rew1)} loss agent 1 {loss1}, {np.mean(rew2)}\")\r\n",
    "         \r\n",
    "        epoch+=1\r\n",
    "        observations = []\r\n",
    "        predictions = []\r\n",
    "        plt.close()"
   ],
   "outputs": [
    {
     "output_type": "display_data",
     "data": {
      "text/plain": [
       "<Figure size 1152x432 with 2 Axes>"
      ],
      "image/png": "[encoded data removed]"
     },
     "metadata": {}
    },
    {
     "output_type": "stream",
     "name": "stdout",
     "text": [
      "epoch 597/1000 loss, reward:  agent 0 (1.152505874633789, 0.9020776748657227), 1.0 loss agent 1 (1.2967987060546875, 0.8001705408096313), 0.9\n"
     ]
    }
   ],
   "metadata": {}
  }
 ],
 "metadata": {
  "orig_nbformat": 4,
  "language_info": {
   "name": "python",
   "version": "3.8.5",
   "mimetype": "text/x-python",
   "codemirror_mode": {
    "name": "ipython",
    "version": 3
   },
   "pygments_lexer": "ipython3",
   "nbconvert_exporter": "python",
   "file_extension": ".py"
  },
  "kernelspec": {
   "name": "python3",
   "display_name": "Python 3.8.5 64-bit ('base': conda)"
  },
  "interpreter": {
   "hash": "fdd4cef080cf9d8c98fd2c2ab3537af5ed9666002bdead71a8282cc2cf770bde"
  }
 },
 "nbformat": 4,
 "nbformat_minor": 2
}