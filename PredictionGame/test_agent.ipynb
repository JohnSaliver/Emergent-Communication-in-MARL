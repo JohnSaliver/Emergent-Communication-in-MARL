{
 "cells": [
  {
   "cell_type": "code",
   "execution_count": 1,
   "source": [
    "import numpy as np\r\n",
    "import matplotlib.pyplot as plt\r\n",
    "import torch\r\n",
    "import torch.nn as nn\r\n",
    "import torch.nn.functional as F\r\n",
    "from oneDtoyTask.oneDtoyTask import ToyTask, OneDfield, TwoWayComChannel\r\n",
    "from agents.agent_Aria import Aria\r\n",
    "\r\n"
   ],
   "outputs": [],
   "metadata": {}
  },
  {
   "cell_type": "code",
   "execution_count": 2,
   "source": [
    "epochs = 100\r\n",
    "opt_params = {\"lr\":0.0005, \"batch_size\":10, \"gamma\":0.999}\r\n",
    "agent0 = Aria(opt_params=opt_params).float()\r\n",
    "agent1 = Aria(opt_params=opt_params).float()\r\n",
    "np.random.seed(1)\r\n",
    "field = OneDfield(speed=10)\r\n",
    "Task = ToyTask(field=field, observationMappingFct=lambda x: (x>0.5).astype(int), comChannel=TwoWayComChannel())\r\n",
    "\r\n"
   ],
   "outputs": [],
   "metadata": {}
  },
  {
   "cell_type": "code",
   "execution_count": 3,
   "source": [
    "obs, downlink_msgs = Task.reset()\r\n",
    "losses = []\r\n",
    "torch.autograd.set_detect_anomaly(True)\r\n",
    "for epoch in range(epochs):\r\n",
    "    \r\n",
    "    a0, m0u =  agent0.select_action(obs[0], downlink_msgs[0])\r\n",
    "    a1, m1u = agent1.select_action(obs[1], downlink_msgs[1])\r\n",
    "    m0u_ = np.zeros(4)\r\n",
    "    m1u_ = np.zeros(4)\r\n",
    "    m0u_[m0u.item()] = 1\r\n",
    "    m1u_[m1u.item()] = 1\r\n",
    "    (obs_, downlink_msgs_), r, done = Task.step([a0, a1], [m0u_, m1u_])\r\n",
    "    loss0 = agent0.train_on_batch([obs[0], downlink_msgs[0]], r[0])\r\n",
    "    loss1 = agent1.train_on_batch([obs[1], downlink_msgs[0]], r[1])\r\n",
    "    obs = obs_\r\n",
    "    downlink_msgs = downlink_msgs_\r\n",
    "    if loss0 is not None:\r\n",
    "        print(\"loss agent 0 \", loss0, \" loss agent 1 \", loss1)\r\n",
    "        losses.append([loss0, loss1])"
   ],
   "outputs": [],
   "metadata": {}
  }
 ],
 "metadata": {
  "orig_nbformat": 4,
  "language_info": {
   "name": "python",
   "version": "3.8.5",
   "mimetype": "text/x-python",
   "codemirror_mode": {
    "name": "ipython",
    "version": 3
   },
   "pygments_lexer": "ipython3",
   "nbconvert_exporter": "python",
   "file_extension": ".py"
  },
  "kernelspec": {
   "name": "python3",
   "display_name": "Python 3.8.5 64-bit ('base': conda)"
  },
  "interpreter": {
   "hash": "fdd4cef080cf9d8c98fd2c2ab3537af5ed9666002bdead71a8282cc2cf770bde"
  }
 },
 "nbformat": 4,
 "nbformat_minor": 2
}